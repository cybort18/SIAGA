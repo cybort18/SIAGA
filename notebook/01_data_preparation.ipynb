{
 "cells": [
  {
   "cell_type": "code",
   "execution_count": 1,
   "id": "a221f66a",
   "metadata": {},
   "outputs": [],
   "source": [
    "# Di dalam notebook Anda\n",
    "import pandas as pd\n",
    "import random\n",
    "\n",
    "# Kamus entitas\n",
    "lokasi = [\"di Jalan Sudirman\", \"di Mall Grand Indonesia\", \"dekat Monas\", \"di Apartemen Green Pramuka\", \"di Stasiun Manggarai\", \"kawasan SCBD\"]\n",
    "jenis_kebakaran = [\"kebakaran hebat\", \"asap tebal\", \"ledakan tabung gas\", \"korsleting listrik\"]\n",
    "jenis_medis = [\"serangan jantung\", \"kecelakaan motor\", \"pingsan tidak sadarkan diri\", \"pendarahan hebat\", \"kesulitan bernapas\"]\n",
    "jenis_kriminal = [\"pencurian dengan kekerasan\", \"perampokan toko\", \"penjambretan\", \"tawuran warga\"]\n",
    "detail_objek = [\"rumah tinggal\", \"gedung perkantoran\", \"mobil sedan silver\", \"warung kelontong\"]\n",
    "\n",
    "# Template kalimat berdasarkan kategori\n",
    "templates = {\n",
    "    \"Kebakaran\": [\n",
    "        \"Tolong, ada {jenis_kebakaran} di {lokasi}, korbannya di dalam {detail_objek}.\",\n",
    "        \"Lapor! Terjadi {jenis_kebakaran} {lokasi}.\",\n",
    "        \"Darurat! Api melalap {detail_objek} {lokasi}.\"\n",
    "    ],\n",
    "    \"Medis\": [\n",
    "        \"Cepat, butuh ambulans! Ada korban {jenis_medis} {lokasi}.\",\n",
    "        \"Seseorang butuh pertolongan medis karena {jenis_medis} {lokasi}.\",\n",
    "        \"Tolong, ada yang {jenis_medis} di {detail_objek} {lokasi}.\"\n",
    "    ],\n",
    "    \"Kriminal\": [\n",
    "        \"Waspada! Terjadi {jenis_kriminal} {lokasi}.\",\n",
    "        \"Saya baru saja melihat {jenis_kriminal} di {detail_objek} {lokasi}, pelakunya kabur.\",\n",
    "        \"Lapor, ada insiden {jenis_kriminal} {lokasi}.\"\n",
    "    ]\n",
    "}"
   ]
  },
  {
   "cell_type": "code",
   "execution_count": 2,
   "id": "85e0dbee",
   "metadata": {},
   "outputs": [
    {
     "name": "stdout",
     "output_type": "stream",
     "text": [
      "                                                text  category\n",
      "0  Lapor, ada insiden perampokan toko di Stasiun ...  Kriminal\n",
      "1  Tolong, ada yang kecelakaan motor di gedung pe...     Medis\n",
      "2  Tolong, ada yang kecelakaan motor di rumah tin...     Medis\n",
      "3        Waspada! Terjadi penjambretan kawasan SCBD.  Kriminal\n",
      "4  Seseorang butuh pertolongan medis karena penda...     Medis\n"
     ]
    }
   ],
   "source": [
    "# Lanjutan di notebook\n",
    "data = []\n",
    "for i in range(500): # Hasilkan 500 sampel\n",
    "    category = random.choice(list(templates.keys()))\n",
    "    template = random.choice(templates[category])\n",
    "    \n",
    "    # Pilih entitas secara acak\n",
    "    subs = {\n",
    "        \"lokasi\": random.choice(lokasi),\n",
    "        \"jenis_kebakaran\": random.choice(jenis_kebakaran),\n",
    "        \"jenis_medis\": random.choice(jenis_medis),\n",
    "        \"jenis_kriminal\": random.choice(jenis_kriminal),\n",
    "        \"detail_objek\": random.choice(detail_objek),\n",
    "    }\n",
    "    \n",
    "    # Format kalimat\n",
    "    text = template.format(**subs)\n",
    "    \n",
    "    data.append({\"text\": text, \"category\": category})\n",
    "\n",
    "df = pd.DataFrame(data)\n",
    "df.to_csv('../data/processed/synthetic_data.csv', index=False)\n",
    "print(df.head())"
   ]
  },
  {
   "cell_type": "code",
   "execution_count": 8,
   "id": "30707348",
   "metadata": {},
   "outputs": [
    {
     "name": "stdout",
     "output_type": "stream",
     "text": [
      "Memulai pembuatan file audio menggunakan gTTS dan ffmpeg...\n",
      "File audio lama telah dihapus.\n",
      "Selesai membuat 50/500 file audio.\n",
      "Selesai membuat 100/500 file audio.\n",
      "Selesai membuat 150/500 file audio.\n",
      "Selesai membuat 200/500 file audio.\n",
      "Selesai membuat 250/500 file audio.\n",
      "Selesai membuat 300/500 file audio.\n",
      "Selesai membuat 350/500 file audio.\n",
      "Selesai membuat 400/500 file audio.\n",
      "Selesai membuat 450/500 file audio.\n",
      "Selesai membuat 500/500 file audio.\n",
      "SELESAI! 500 file audio telah dibuat di folder ../data/raw_audio/\n"
     ]
    }
   ],
   "source": [
    "import os\n",
    "import pandas as pd\n",
    "from gtts import gTTS\n",
    "import ffmpeg  # <-- Gunakan library baru\n",
    "\n",
    "# Pastikan variabel 'df' sudah ada dari sel-sel sebelumnya\n",
    "# df = pd.read_csv('../data/processed/synthetic_data.csv')\n",
    "\n",
    "# Pastikan direktori output ada\n",
    "output_dir = '../data/raw_audio/'\n",
    "os.makedirs(output_dir, exist_ok=True)\n",
    "\n",
    "print(\"Memulai pembuatan file audio menggunakan gTTS dan ffmpeg...\")\n",
    "\n",
    "# --- PENTING: Hapus file audio lama sebelum memulai ---\n",
    "for f in os.listdir(output_dir):\n",
    "    os.remove(os.path.join(output_dir, f))\n",
    "print(\"File audio lama telah dihapus.\")\n",
    "# ----------------------------------------------------\n",
    "\n",
    "for index, row in df.iterrows():\n",
    "    temp_filename = f\"{output_dir}temp_{index}.mp3\"\n",
    "    final_filename = f\"{output_dir}call_{index}.wav\"\n",
    "    \n",
    "    # 1. Buat file MP3 sementara menggunakan gTTS\n",
    "    tts = gTTS(row['text'], lang='id')\n",
    "    tts.save(temp_filename)\n",
    "    \n",
    "    # 2. Gunakan ffmpeg untuk mengkonversi MP3 ke WAV 16kHz Mono\n",
    "    try:\n",
    "        (\n",
    "            ffmpeg\n",
    "            .input(temp_filename)\n",
    "            .output(\n",
    "                final_filename,\n",
    "                acodec='pcm_s16le',  # Format standar untuk WAV (sama dengan LINEAR16)\n",
    "                ac=1,               # Audio Channels = 1 (Mono)\n",
    "                ar='16000'          # Audio Rate = 16000 Hz\n",
    "            )\n",
    "            .run(overwrite_output=True, quiet=True) # quiet=True agar tidak banyak log\n",
    "        )\n",
    "    except ffmpeg.Error as e:\n",
    "        print(f\"Gagal mengkonversi file {temp_filename}: {e.stderr}\")\n",
    "\n",
    "    # 3. Hapus file MP3 sementara\n",
    "    os.remove(temp_filename)\n",
    "    \n",
    "    if (index + 1) % 50 == 0:\n",
    "        print(f\"Selesai membuat {index + 1}/{len(df)} file audio.\")\n",
    "\n",
    "print(f\"SELESAI! {len(df)} file audio telah dibuat di folder {output_dir}\")"
   ]
  }
 ],
 "metadata": {
  "kernelspec": {
   "display_name": "venv",
   "language": "python",
   "name": "python3"
  },
  "language_info": {
   "codemirror_mode": {
    "name": "ipython",
    "version": 3
   },
   "file_extension": ".py",
   "mimetype": "text/x-python",
   "name": "python",
   "nbconvert_exporter": "python",
   "pygments_lexer": "ipython3",
   "version": "3.13.3"
  }
 },
 "nbformat": 4,
 "nbformat_minor": 5
}
