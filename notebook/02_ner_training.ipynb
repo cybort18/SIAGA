{
 "cells": [
  {
   "cell_type": "code",
   "execution_count": 4,
   "id": "a9e346c5",
   "metadata": {},
   "outputs": [
    {
     "name": "stderr",
     "output_type": "stream",
     "text": [
      "Some weights of the model checkpoint at cahya/bert-base-indonesian-ner were not used when initializing BertForTokenClassification: ['bert.pooler.dense.bias', 'bert.pooler.dense.weight']\n",
      "- This IS expected if you are initializing BertForTokenClassification from the checkpoint of a model trained on another task or with another architecture (e.g. initializing a BertForSequenceClassification model from a BertForPreTraining model).\n",
      "- This IS NOT expected if you are initializing BertForTokenClassification from the checkpoint of a model that you expect to be exactly identical (initializing a BertForSequenceClassification model from a BertForSequenceClassification model).\n",
      "Device set to use cpu\n",
      "Asking to truncate to max_length but no maximum length is provided and the model has no predefined maximum length. Default to no truncation.\n"
     ]
    },
    {
     "name": "stdout",
     "output_type": "stream",
     "text": [
      "[{'entity_group': 'LOC', 'score': np.float32(0.8693886), 'word': 'mall grand indonesia', 'start': 31, 'end': 51}]\n"
     ]
    }
   ],
   "source": [
    "from transformers import pipeline\n",
    "\n",
    "# Muat pipeline NER dari Hugging Face\n",
    "# Model akan diunduh secara otomatis saat pertama kali dijalankan\n",
    "ner_pipeline = pipeline(\n",
    "    \"ner\", \n",
    "    model=\"cahya/bert-base-indonesian-ner\",\n",
    "    grouped_entities=True # Ini akan menggabungkan sub-kata (e.g., \"Grand\" \"##Indonesia\" -> \"Grand Indonesia\")\n",
    ")\n",
    "\n",
    "# Contoh kalimat dari data sintetik Anda\n",
    "teks_contoh = \"Tolong, ada kebakaran hebat di Mall Grand Indonesia, korbannya di dalam gedung perkantoran.\"\n",
    "\n",
    "# Jalankan pipeline\n",
    "hasil_ner = ner_pipeline(teks_contoh)\n",
    "\n",
    "print(hasil_ner)"
   ]
  }
 ],
 "metadata": {
  "kernelspec": {
   "display_name": "venv",
   "language": "python",
   "name": "python3"
  },
  "language_info": {
   "codemirror_mode": {
    "name": "ipython",
    "version": 3
   },
   "file_extension": ".py",
   "mimetype": "text/x-python",
   "name": "python",
   "nbconvert_exporter": "python",
   "pygments_lexer": "ipython3",
   "version": "3.13.3"
  }
 },
 "nbformat": 4,
 "nbformat_minor": 5
}
